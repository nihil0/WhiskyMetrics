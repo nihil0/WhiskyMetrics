{
 "cells": [
  {
   "cell_type": "markdown",
   "metadata": {},
   "source": [
    "# Loading the whiskymetrics database for the first time"
   ]
  },
  {
   "cell_type": "code",
   "execution_count": 1,
   "metadata": {
    "collapsed": false
   },
   "outputs": [
    {
     "name": "stdout",
     "output_type": "stream",
     "text": [
      "Config file $HOME/.whiskymetrics/config.ini not found.\n"
     ]
    }
   ],
   "source": [
    "%load_ext autoreload\n",
    "%autoreload 2\n",
    "\n",
    "from whiskymetrics import WMDIR\n",
    "import whiskymetrics.etl as etl\n",
    "import whiskymetrics.database as db\n"
   ]
  },
  {
   "cell_type": "markdown",
   "metadata": {},
   "source": [
    "Download file from Google Docs"
   ]
  },
  {
   "cell_type": "code",
   "execution_count": 3,
   "metadata": {
    "collapsed": false
   },
   "outputs": [
    {
     "name": "stdout",
     "output_type": "stream",
     "text": [
      "2016-12-03-review.csv\n",
      "config.ini\n"
     ]
    }
   ],
   "source": [
    "etl.download_review_file()\n",
    "\n",
    "!ls %HOME%/.whiskymetrics/"
   ]
  },
  {
   "cell_type": "markdown",
   "metadata": {},
   "source": [
    "Transform the raw csv data file"
   ]
  },
  {
   "cell_type": "code",
   "execution_count": 4,
   "metadata": {
    "collapsed": false
   },
   "outputs": [
    {
     "data": {
      "text/html": [
       "<div>\n",
       "<table border=\"1\" class=\"dataframe\">\n",
       "  <thead>\n",
       "    <tr style=\"text-align: right;\">\n",
       "      <th></th>\n",
       "      <th>Timestamp</th>\n",
       "      <th>Whisky Name</th>\n",
       "      <th>Reviewer Username</th>\n",
       "      <th>Link To Reddit Review</th>\n",
       "      <th>Rating</th>\n",
       "      <th>Region</th>\n",
       "    </tr>\n",
       "  </thead>\n",
       "  <tbody>\n",
       "    <tr>\n",
       "      <th>37</th>\n",
       "      <td>2013-01-27T18:02:26</td>\n",
       "      <td>aberfeldy 12</td>\n",
       "      <td>ChainChompsy</td>\n",
       "      <td>http://www.reddit.com/r/Scotch/comments/17e9n9...</td>\n",
       "      <td>82</td>\n",
       "      <td>highland</td>\n",
       "    </tr>\n",
       "    <tr>\n",
       "      <th>38</th>\n",
       "      <td>2016-01-30T12:30:15</td>\n",
       "      <td>aberfeldy 12</td>\n",
       "      <td>muaddib99</td>\n",
       "      <td>https://www.reddit.com/r/Scotch/comments/43f6t...</td>\n",
       "      <td>73</td>\n",
       "      <td>highland</td>\n",
       "    </tr>\n",
       "    <tr>\n",
       "      <th>39</th>\n",
       "      <td>2015-02-01T13:57:13</td>\n",
       "      <td>aberfeldy 12</td>\n",
       "      <td>kdz13</td>\n",
       "      <td>http://www.reddit.com/r/Scotch/comments/2uddr0...</td>\n",
       "      <td>81</td>\n",
       "      <td>highland</td>\n",
       "    </tr>\n",
       "    <tr>\n",
       "      <th>40</th>\n",
       "      <td>2013-02-08T15:37:37</td>\n",
       "      <td>aberfeldy 12</td>\n",
       "      <td>leroideschoux</td>\n",
       "      <td>http://www.reddit.com/r/Scotch/comments/185jrq...</td>\n",
       "      <td>76</td>\n",
       "      <td>highland</td>\n",
       "    </tr>\n",
       "    <tr>\n",
       "      <th>41</th>\n",
       "      <td>2013-03-12T16:16:26</td>\n",
       "      <td>aberfeldy 12</td>\n",
       "      <td>bacon_of_the_lake</td>\n",
       "      <td>http://www.reddit.com/r/Scotch/comments/1a6bnw...</td>\n",
       "      <td>78</td>\n",
       "      <td>highland</td>\n",
       "    </tr>\n",
       "  </tbody>\n",
       "</table>\n",
       "</div>"
      ],
      "text/plain": [
       "              Timestamp   Whisky Name  Reviewer Username  \\\n",
       "37  2013-01-27T18:02:26  aberfeldy 12       ChainChompsy   \n",
       "38  2016-01-30T12:30:15  aberfeldy 12          muaddib99   \n",
       "39  2015-02-01T13:57:13  aberfeldy 12              kdz13   \n",
       "40  2013-02-08T15:37:37  aberfeldy 12      leroideschoux   \n",
       "41  2013-03-12T16:16:26  aberfeldy 12  bacon_of_the_lake   \n",
       "\n",
       "                                Link To Reddit Review Rating    Region  \n",
       "37  http://www.reddit.com/r/Scotch/comments/17e9n9...     82  highland  \n",
       "38  https://www.reddit.com/r/Scotch/comments/43f6t...     73  highland  \n",
       "39  http://www.reddit.com/r/Scotch/comments/2uddr0...     81  highland  \n",
       "40  http://www.reddit.com/r/Scotch/comments/185jrq...     76  highland  \n",
       "41  http://www.reddit.com/r/Scotch/comments/1a6bnw...     78  highland  "
      ]
     },
     "execution_count": 4,
     "metadata": {},
     "output_type": "execute_result"
    }
   ],
   "source": [
    "import os\n",
    "df = etl.transform(os.path.join(WMDIR,\"2016-12-03-review.csv\"))\n",
    "df.head()"
   ]
  },
  {
   "cell_type": "code",
   "execution_count": 5,
   "metadata": {
    "collapsed": false
   },
   "outputs": [
    {
     "name": "stdout",
     "output_type": "stream",
     "text": [
      "['timestamp', 'whisky_name', 'user', 'link', 'rating', 'region']\n"
     ]
    },
    {
     "data": {
      "text/html": [
       "<div>\n",
       "<table border=\"1\" class=\"dataframe\">\n",
       "  <thead>\n",
       "    <tr style=\"text-align: right;\">\n",
       "      <th></th>\n",
       "      <th>timestamp</th>\n",
       "      <th>whisky_name</th>\n",
       "      <th>user</th>\n",
       "      <th>link</th>\n",
       "      <th>rating</th>\n",
       "      <th>region</th>\n",
       "    </tr>\n",
       "  </thead>\n",
       "  <tbody>\n",
       "    <tr>\n",
       "      <th>37</th>\n",
       "      <td>2013-01-27T18:02:26</td>\n",
       "      <td>aberfeldy 12</td>\n",
       "      <td>ChainChompsy</td>\n",
       "      <td>http://www.reddit.com/r/Scotch/comments/17e9n9...</td>\n",
       "      <td>82</td>\n",
       "      <td>highland</td>\n",
       "    </tr>\n",
       "    <tr>\n",
       "      <th>38</th>\n",
       "      <td>2016-01-30T12:30:15</td>\n",
       "      <td>aberfeldy 12</td>\n",
       "      <td>muaddib99</td>\n",
       "      <td>https://www.reddit.com/r/Scotch/comments/43f6t...</td>\n",
       "      <td>73</td>\n",
       "      <td>highland</td>\n",
       "    </tr>\n",
       "    <tr>\n",
       "      <th>39</th>\n",
       "      <td>2015-02-01T13:57:13</td>\n",
       "      <td>aberfeldy 12</td>\n",
       "      <td>kdz13</td>\n",
       "      <td>http://www.reddit.com/r/Scotch/comments/2uddr0...</td>\n",
       "      <td>81</td>\n",
       "      <td>highland</td>\n",
       "    </tr>\n",
       "    <tr>\n",
       "      <th>40</th>\n",
       "      <td>2013-02-08T15:37:37</td>\n",
       "      <td>aberfeldy 12</td>\n",
       "      <td>leroideschoux</td>\n",
       "      <td>http://www.reddit.com/r/Scotch/comments/185jrq...</td>\n",
       "      <td>76</td>\n",
       "      <td>highland</td>\n",
       "    </tr>\n",
       "    <tr>\n",
       "      <th>41</th>\n",
       "      <td>2013-03-12T16:16:26</td>\n",
       "      <td>aberfeldy 12</td>\n",
       "      <td>bacon_of_the_lake</td>\n",
       "      <td>http://www.reddit.com/r/Scotch/comments/1a6bnw...</td>\n",
       "      <td>78</td>\n",
       "      <td>highland</td>\n",
       "    </tr>\n",
       "  </tbody>\n",
       "</table>\n",
       "</div>"
      ],
      "text/plain": [
       "              timestamp   whisky_name               user  \\\n",
       "37  2013-01-27T18:02:26  aberfeldy 12       ChainChompsy   \n",
       "38  2016-01-30T12:30:15  aberfeldy 12          muaddib99   \n",
       "39  2015-02-01T13:57:13  aberfeldy 12              kdz13   \n",
       "40  2013-02-08T15:37:37  aberfeldy 12      leroideschoux   \n",
       "41  2013-03-12T16:16:26  aberfeldy 12  bacon_of_the_lake   \n",
       "\n",
       "                                                 link rating    region  \n",
       "37  http://www.reddit.com/r/Scotch/comments/17e9n9...     82  highland  \n",
       "38  https://www.reddit.com/r/Scotch/comments/43f6t...     73  highland  \n",
       "39  http://www.reddit.com/r/Scotch/comments/2uddr0...     81  highland  \n",
       "40  http://www.reddit.com/r/Scotch/comments/185jrq...     76  highland  \n",
       "41  http://www.reddit.com/r/Scotch/comments/1a6bnw...     78  highland  "
      ]
     },
     "execution_count": 5,
     "metadata": {},
     "output_type": "execute_result"
    }
   ],
   "source": [
    "metadata = db.create_metadata()\n",
    "column_names = metadata.tables['review'].columns.keys()[1:]\n",
    "print(column_names)\n",
    "\n",
    "df.columns = column_names\n",
    "df.head()"
   ]
  },
  {
   "cell_type": "markdown",
   "metadata": {},
   "source": [
    "Load into database"
   ]
  },
  {
   "cell_type": "code",
   "execution_count": 7,
   "metadata": {
    "collapsed": false
   },
   "outputs": [],
   "source": [
    "etl.load(metadata.tables['review'],df)"
   ]
  },
  {
   "cell_type": "code",
   "execution_count": null,
   "metadata": {
    "collapsed": true
   },
   "outputs": [],
   "source": []
  }
 ],
 "metadata": {
  "anaconda-cloud": {},
  "kernelspec": {
   "display_name": "Python [conda root]",
   "language": "python",
   "name": "conda-root-py"
  },
  "language_info": {
   "codemirror_mode": {
    "name": "ipython",
    "version": 3
   },
   "file_extension": ".py",
   "mimetype": "text/x-python",
   "name": "python",
   "nbconvert_exporter": "python",
   "pygments_lexer": "ipython3",
   "version": "3.5.2"
  }
 },
 "nbformat": 4,
 "nbformat_minor": 1
}
