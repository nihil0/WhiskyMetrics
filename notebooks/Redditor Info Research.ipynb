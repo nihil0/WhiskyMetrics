{
 "cells": [
  {
   "cell_type": "code",
   "execution_count": 3,
   "metadata": {
    "collapsed": true
   },
   "outputs": [],
   "source": [
    "import praw\n",
    "\n",
    "reddit = praw.Reddit(client_secret='vPPOuaLhteQcDgMUv0v5Qm0p_lM',user_agent='reviewbot (dev) v0.0.1 (by /u/TheJollyReaver)',client_id='4kmOMwhAe_AjMA')\n"
   ]
  },
  {
   "cell_type": "code",
   "execution_count": 4,
   "metadata": {
    "collapsed": true
   },
   "outputs": [],
   "source": [
    "redittor = reddit.redditor(\"TOModera\")"
   ]
  },
  {
   "cell_type": "code",
   "execution_count": 24,
   "metadata": {
    "collapsed": false
   },
   "outputs": [],
   "source": [
    "comment = [m for m in redittor.comments.top()]"
   ]
  },
  {
   "cell_type": "code",
   "execution_count": 26,
   "metadata": {
    "collapsed": false,
    "scrolled": true
   },
   "outputs": [
    {
     "data": {
      "text/plain": [
       "['STR_FIELD',\n",
       " '__class__',\n",
       " '__delattr__',\n",
       " '__dict__',\n",
       " '__dir__',\n",
       " '__doc__',\n",
       " '__eq__',\n",
       " '__format__',\n",
       " '__ge__',\n",
       " '__getattr__',\n",
       " '__getattribute__',\n",
       " '__gt__',\n",
       " '__hash__',\n",
       " '__init__',\n",
       " '__le__',\n",
       " '__lt__',\n",
       " '__module__',\n",
       " '__ne__',\n",
       " '__new__',\n",
       " '__reduce__',\n",
       " '__reduce_ex__',\n",
       " '__repr__',\n",
       " '__setattr__',\n",
       " '__sizeof__',\n",
       " '__str__',\n",
       " '__subclasshook__',\n",
       " '__weakref__',\n",
       " '_fetch',\n",
       " '_fetched',\n",
       " '_reddit',\n",
       " '_reset_attributes',\n",
       " '_safely_add_arguments',\n",
       " '_submission',\n",
       " '_vote',\n",
       " 'approved_by',\n",
       " 'archived',\n",
       " 'author',\n",
       " 'author_flair_css_class',\n",
       " 'author_flair_text',\n",
       " 'banned_by',\n",
       " 'block',\n",
       " 'body',\n",
       " 'body_html',\n",
       " 'clear_vote',\n",
       " 'controversiality',\n",
       " 'created',\n",
       " 'created_utc',\n",
       " 'delete',\n",
       " 'distinguished',\n",
       " 'downs',\n",
       " 'downvote',\n",
       " 'edit',\n",
       " 'edited',\n",
       " 'fullname',\n",
       " 'gild',\n",
       " 'gilded',\n",
       " 'id',\n",
       " 'is_root',\n",
       " 'likes',\n",
       " 'link_author',\n",
       " 'link_id',\n",
       " 'link_title',\n",
       " 'link_url',\n",
       " 'mark_read',\n",
       " 'mark_unread',\n",
       " 'mod_reports',\n",
       " 'name',\n",
       " 'num_reports',\n",
       " 'over_18',\n",
       " 'parent_id',\n",
       " 'parse',\n",
       " 'permalink',\n",
       " 'quarantine',\n",
       " 'refresh',\n",
       " 'removal_reason',\n",
       " 'replies',\n",
       " 'reply',\n",
       " 'report',\n",
       " 'report_reasons',\n",
       " 'save',\n",
       " 'saved',\n",
       " 'score',\n",
       " 'score_hidden',\n",
       " 'stickied',\n",
       " 'submission',\n",
       " 'subreddit',\n",
       " 'subreddit_id',\n",
       " 'unsave',\n",
       " 'ups',\n",
       " 'upvote',\n",
       " 'user_reports']"
      ]
     },
     "execution_count": 26,
     "metadata": {},
     "output_type": "execute_result"
    }
   ],
   "source": [
    "dir(comment[0])"
   ]
  }
 ],
 "metadata": {
  "anaconda-cloud": {},
  "kernelspec": {
   "display_name": "Python [conda root]",
   "language": "python",
   "name": "conda-root-py"
  },
  "language_info": {
   "codemirror_mode": {
    "name": "ipython",
    "version": 3
   },
   "file_extension": ".py",
   "mimetype": "text/x-python",
   "name": "python",
   "nbconvert_exporter": "python",
   "pygments_lexer": "ipython3",
   "version": "3.5.2"
  }
 },
 "nbformat": 4,
 "nbformat_minor": 1
}
