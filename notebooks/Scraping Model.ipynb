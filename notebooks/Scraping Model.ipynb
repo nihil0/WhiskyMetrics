{
 "cells": [
  {
   "cell_type": "markdown",
   "metadata": {},
   "source": [
    "# Exploration of the scraping model for whisky reviews\n",
    "\n",
    "The plan is to store reviews in Azure blob storage and see if we can make sense of them"
   ]
  },
  {
   "cell_type": "markdown",
   "metadata": {},
   "source": [
    "Connect to database"
   ]
  },
  {
   "cell_type": "code",
   "execution_count": 2,
   "metadata": {
    "collapsed": false
   },
   "outputs": [],
   "source": [
    "%load_ext autoreload\n",
    "%autoreload 2\n",
    "import whiskymetrics.database as db\n",
    "from sqlalchemy.sql import select\n",
    "import pandas as pd\n",
    "\n",
    "review = db.create_metadata().tables['review']\n",
    "conn = db.get_connection()\n",
    "\n",
    "s = select([review.c.id, review.c.link])\n",
    "print(s)\n",
    "\n",
    "url_df = pd.read_sql(sql=s,con=conn)"
   ]
  },
  {
   "cell_type": "markdown",
   "metadata": {},
   "source": [
    "This is where we explore how to get reviews from reddit into a json/xml file. \n",
    "\n",
    "### Method 1: Prentend to be a browser"
   ]
  },
  {
   "cell_type": "code",
   "execution_count": 36,
   "metadata": {
    "collapsed": false
   },
   "outputs": [
    {
     "name": "stdout",
     "output_type": "stream",
     "text": [
      "200\n",
      "200\n",
      "429\n",
      "200\n",
      "200\n",
      "429\n",
      "429\n",
      "429\n",
      "429\n",
      "[\n",
      "\n",
      "]\n"
     ]
    }
   ],
   "source": [
    "import requests\n",
    "from time import sleep\n",
    "headers={'User-agent': 'Mozilla/5.0'}\n",
    "\n",
    "my_links = [m[0] for m in moo[0:9]]\n",
    "print(my_links)\n",
    "json_str = '[\\n'\n",
    "for link in my_links:\n",
    "    resp = requests.get(link+'.json',headers,proxies={'http':'http://177.54.158.201:8080'})\n",
    "    print(resp.status_code)\n",
    "    if resp.status_code == '200':\n",
    "        print(resp.text)\n",
    "        json_str += resp.text\n",
    "    sleep(2)\n",
    "        \n",
    "json_str+='\\n]'\n",
    "\n",
    "print(json_str)"
   ]
  },
  {
   "cell_type": "markdown",
   "metadata": {},
   "source": [
    "The problem with this method is that we trigger reddit's 429. Maybe Praw will provide a better solution"
   ]
  },
  {
   "cell_type": "markdown",
   "metadata": {},
   "source": [
    "### Method 2 Use PRAW"
   ]
  },
  {
   "cell_type": "code",
   "execution_count": 3,
   "metadata": {
    "collapsed": false
   },
   "outputs": [
    {
     "ename": "NameError",
     "evalue": "name 'url_df' is not defined",
     "output_type": "error",
     "traceback": [
      "\u001b[0;31m---------------------------------------------------------------------------\u001b[0m",
      "\u001b[0;31mNameError\u001b[0m                                 Traceback (most recent call last)",
      "\u001b[0;32m<ipython-input-3-8f9d05f985fc>\u001b[0m in \u001b[0;36m<module>\u001b[0;34m()\u001b[0m\n\u001b[0;32m----> 1\u001b[0;31m \u001b[0mmy_links\u001b[0m \u001b[1;33m=\u001b[0m \u001b[0murl_df\u001b[0m\u001b[1;33m.\u001b[0m\u001b[0msample\u001b[0m\u001b[1;33m(\u001b[0m\u001b[0mn\u001b[0m\u001b[1;33m=\u001b[0m\u001b[1;36m50\u001b[0m\u001b[1;33m)\u001b[0m\u001b[1;33m\u001b[0m\u001b[0m\n\u001b[0m\u001b[1;32m      2\u001b[0m \u001b[0mmy_links\u001b[0m\u001b[1;33m.\u001b[0m\u001b[0mhead\u001b[0m\u001b[1;33m(\u001b[0m\u001b[1;33m)\u001b[0m\u001b[1;33m\u001b[0m\u001b[0m\n",
      "\u001b[0;31mNameError\u001b[0m: name 'url_df' is not defined"
     ]
    }
   ],
   "source": [
    "\n",
    "my_links = url_df.sample(n=50)\n",
    "my_links.head()"
   ]
  },
  {
   "cell_type": "code",
   "execution_count": 122,
   "metadata": {
    "collapsed": false
   },
   "outputs": [
    {
     "data": {
      "text/html": [
       "<div>\n",
       "<table border=\"1\" class=\"dataframe\">\n",
       "  <thead>\n",
       "    <tr style=\"text-align: right;\">\n",
       "      <th></th>\n",
       "      <th>id</th>\n",
       "      <th>link</th>\n",
       "      <th>fullname</th>\n",
       "    </tr>\n",
       "  </thead>\n",
       "  <tbody>\n",
       "    <tr>\n",
       "      <th>983</th>\n",
       "      <td>984</td>\n",
       "      <td>https://www.reddit.com/r/Scotch/comments/4aop9...</td>\n",
       "      <td>t1_d125f9k</td>\n",
       "    </tr>\n",
       "    <tr>\n",
       "      <th>1283</th>\n",
       "      <td>1284</td>\n",
       "      <td>http://www.reddit.com/r/Scotch/comments/2rsxiu...</td>\n",
       "      <td>t1_cniyb0j</td>\n",
       "    </tr>\n",
       "    <tr>\n",
       "      <th>3035</th>\n",
       "      <td>3036</td>\n",
       "      <td>http://www.reddit.com/r/Scotch/comments/19hi6v...</td>\n",
       "      <td>t1_c8o2bo4</td>\n",
       "    </tr>\n",
       "    <tr>\n",
       "      <th>1763</th>\n",
       "      <td>1764</td>\n",
       "      <td>http://www.reddit.com/r/Scotch/comments/2pee5z...</td>\n",
       "      <td>t1_cmvwmao</td>\n",
       "    </tr>\n",
       "    <tr>\n",
       "      <th>2217</th>\n",
       "      <td>2218</td>\n",
       "      <td>http://www.reddit.com/r/Scotch/comments/36b4k1...</td>\n",
       "      <td>t1_crcdi6l</td>\n",
       "    </tr>\n",
       "  </tbody>\n",
       "</table>\n",
       "</div>"
      ],
      "text/plain": [
       "        id                                               link    fullname\n",
       "983    984  https://www.reddit.com/r/Scotch/comments/4aop9...  t1_d125f9k\n",
       "1283  1284  http://www.reddit.com/r/Scotch/comments/2rsxiu...  t1_cniyb0j\n",
       "3035  3036  http://www.reddit.com/r/Scotch/comments/19hi6v...  t1_c8o2bo4\n",
       "1763  1764  http://www.reddit.com/r/Scotch/comments/2pee5z...  t1_cmvwmao\n",
       "2217  2218  http://www.reddit.com/r/Scotch/comments/36b4k1...  t1_crcdi6l"
      ]
     },
     "execution_count": 122,
     "metadata": {},
     "output_type": "execute_result"
    }
   ],
   "source": [
    "import praw\n",
    "from numpy import nan\n",
    "\n",
    "reddit = praw.Reddit(client_secret='vPPOuaLhteQcDgMUv0v5Qm0p_lM',user_agent='reviewbot (dev) v0.0.1 (by /u/TheJollyReaver)',client_id='4kmOMwhAe_AjMA')\n",
    "\n",
    "fullnames = []\n",
    "for link in my_links['link']:\n",
    "    try:\n",
    "        fullnames.append(reddit.submission(url = link).comments[0].fullname)\n",
    "    except:\n",
    "        fullnames.append(nan)\n",
    "        \n",
    "            \n",
    "    \n",
    "my_links = my_links.assign(fullname=fullnames).dropna()\n",
    "my_links.head()"
   ]
  },
  {
   "cell_type": "code",
   "execution_count": 128,
   "metadata": {
    "collapsed": false
   },
   "outputs": [
    {
     "data": {
      "text/html": [
       "<div>\n",
       "<table border=\"1\" class=\"dataframe\">\n",
       "  <thead>\n",
       "    <tr style=\"text-align: right;\">\n",
       "      <th></th>\n",
       "      <th>id</th>\n",
       "      <th>fullname</th>\n",
       "      <th>review_text</th>\n",
       "    </tr>\n",
       "  </thead>\n",
       "  <tbody>\n",
       "    <tr>\n",
       "      <th>983</th>\n",
       "      <td>984</td>\n",
       "      <td>t1_d125f9k</td>\n",
       "      <td>**Bruichladdich Octomore 6.1.** 57% abv. Taste...</td>\n",
       "    </tr>\n",
       "    <tr>\n",
       "      <th>1283</th>\n",
       "      <td>1284</td>\n",
       "      <td>t1_cniyb0j</td>\n",
       "      <td>*****\\n**ROUND TWO - Session Four - a more or ...</td>\n",
       "    </tr>\n",
       "    <tr>\n",
       "      <th>3035</th>\n",
       "      <td>3036</td>\n",
       "      <td>t1_c8o2bo4</td>\n",
       "      <td>I understand this has been reviewed massively,...</td>\n",
       "    </tr>\n",
       "    <tr>\n",
       "      <th>1763</th>\n",
       "      <td>1764</td>\n",
       "      <td>t1_cmvwmao</td>\n",
       "      <td>The 12 and up is where it's at with this brand...</td>\n",
       "    </tr>\n",
       "    <tr>\n",
       "      <th>2217</th>\n",
       "      <td>2218</td>\n",
       "      <td>t1_crcdi6l</td>\n",
       "      <td>Greetings Scotchit! You know those really entr...</td>\n",
       "    </tr>\n",
       "  </tbody>\n",
       "</table>\n",
       "</div>"
      ],
      "text/plain": [
       "        id    fullname                                        review_text\n",
       "983    984  t1_d125f9k  **Bruichladdich Octomore 6.1.** 57% abv. Taste...\n",
       "1283  1284  t1_cniyb0j  *****\\n**ROUND TWO - Session Four - a more or ...\n",
       "3035  3036  t1_c8o2bo4  I understand this has been reviewed massively,...\n",
       "1763  1764  t1_cmvwmao  The 12 and up is where it's at with this brand...\n",
       "2217  2218  t1_crcdi6l  Greetings Scotchit! You know those really entr..."
      ]
     },
     "execution_count": 128,
     "metadata": {},
     "output_type": "execute_result"
    }
   ],
   "source": [
    "my_links\n",
    "text = []\n",
    "\n",
    "for m in reddit.info(list(my_links['fullname'])):\n",
    "    text.append(m.body)\n",
    "    \n",
    "my_links = my_links.assign(review_text=text).drop('link',1)\n",
    "my_links.head()"
   ]
  },
  {
   "cell_type": "code",
   "execution_count": 1,
   "metadata": {
    "collapsed": false
   },
   "outputs": [
    {
     "ename": "NameError",
     "evalue": "name 'db' is not defined",
     "output_type": "error",
     "traceback": [
      "\u001b[0;31m---------------------------------------------------------------------------\u001b[0m",
      "\u001b[0;31mNameError\u001b[0m                                 Traceback (most recent call last)",
      "\u001b[0;32m<ipython-input-1-2665812f9b66>\u001b[0m in \u001b[0;36m<module>\u001b[0;34m()\u001b[0m\n\u001b[1;32m      1\u001b[0m \u001b[1;32mfrom\u001b[0m \u001b[0mwhiskymetrics\u001b[0m\u001b[1;33m.\u001b[0m\u001b[0metl\u001b[0m \u001b[1;32mimport\u001b[0m \u001b[0mload\u001b[0m\u001b[1;33m\u001b[0m\u001b[0m\n\u001b[1;32m      2\u001b[0m \u001b[1;33m\u001b[0m\u001b[0m\n\u001b[0;32m----> 3\u001b[0;31m \u001b[0mtbl\u001b[0m \u001b[1;33m=\u001b[0m \u001b[0mdb\u001b[0m\u001b[1;33m.\u001b[0m\u001b[0mcreate_metadata\u001b[0m\u001b[1;33m(\u001b[0m\u001b[1;33m)\u001b[0m\u001b[1;33m.\u001b[0m\u001b[0mtables\u001b[0m\u001b[1;33m[\u001b[0m\u001b[1;34m'review_text'\u001b[0m\u001b[1;33m]\u001b[0m\u001b[1;33m\u001b[0m\u001b[0m\n\u001b[0m\u001b[1;32m      4\u001b[0m \u001b[0mload\u001b[0m\u001b[1;33m(\u001b[0m\u001b[0mtbl\u001b[0m\u001b[1;33m,\u001b[0m\u001b[0mmy_links\u001b[0m\u001b[1;33m)\u001b[0m\u001b[1;33m\u001b[0m\u001b[0m\n",
      "\u001b[0;31mNameError\u001b[0m: name 'db' is not defined"
     ]
    }
   ],
   "source": [
    "from whiskymetrics.etl import load\n",
    "\n",
    "tbl = db.create_metadata().tables['review_text']\n",
    "load(tbl,my_links)"
   ]
  },
  {
   "cell_type": "code",
   "execution_count": 4,
   "metadata": {
    "collapsed": false
   },
   "outputs": [
    {
     "ename": "NameError",
     "evalue": "name 'tl' is not defined",
     "output_type": "error",
     "traceback": [
      "\u001b[0;31m---------------------------------------------------------------------------\u001b[0m",
      "\u001b[0;31mNameError\u001b[0m                                 Traceback (most recent call last)",
      "\u001b[0;32m<ipython-input-4-88d8fb20ed37>\u001b[0m in \u001b[0;36m<module>\u001b[0;34m()\u001b[0m\n\u001b[0;32m----> 1\u001b[0;31m \u001b[0mtl\u001b[0m\u001b[1;33m\u001b[0m\u001b[0m\n\u001b[0m",
      "\u001b[0;31mNameError\u001b[0m: name 'tl' is not defined"
     ]
    }
   ],
   "source": []
  }
 ],
 "metadata": {
  "anaconda-cloud": {},
  "kernelspec": {
   "display_name": "Python [conda root]",
   "language": "python",
   "name": "conda-root-py"
  },
  "language_info": {
   "codemirror_mode": {
    "name": "ipython",
    "version": 3
   },
   "file_extension": ".py",
   "mimetype": "text/x-python",
   "name": "python",
   "nbconvert_exporter": "python",
   "pygments_lexer": "ipython3",
   "version": "3.5.2"
  }
 },
 "nbformat": 4,
 "nbformat_minor": 1
}
