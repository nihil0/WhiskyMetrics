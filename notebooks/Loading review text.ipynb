{
 "cells": [
  {
   "cell_type": "code",
   "execution_count": 1,
   "metadata": {
    "collapsed": true
   },
   "outputs": [],
   "source": [
    "%load_ext autoreload\n",
    "%autoreload 2\n",
    "import whiskymetrics.database as db\n",
    "from sqlalchemy.sql import select\n",
    "\n"
   ]
  },
  {
   "cell_type": "markdown",
   "metadata": {},
   "source": [
    "Create data frame of review text"
   ]
  },
  {
   "cell_type": "code",
   "execution_count": 2,
   "metadata": {
    "collapsed": false,
    "scrolled": true
   },
   "outputs": [
    {
     "name": "stdout",
     "output_type": "stream",
     "text": [
      "SELECT review.id, review.link \n",
      "FROM review\n"
     ]
    },
    {
     "data": {
      "text/html": [
       "<div>\n",
       "<table border=\"1\" class=\"dataframe\">\n",
       "  <thead>\n",
       "    <tr style=\"text-align: right;\">\n",
       "      <th></th>\n",
       "      <th>id</th>\n",
       "      <th>link</th>\n",
       "    </tr>\n",
       "  </thead>\n",
       "  <tbody>\n",
       "    <tr>\n",
       "      <th>0</th>\n",
       "      <td>1</td>\n",
       "      <td>http://www.reddit.com/r/Scotch/comments/17e9n9...</td>\n",
       "    </tr>\n",
       "    <tr>\n",
       "      <th>1</th>\n",
       "      <td>2</td>\n",
       "      <td>https://www.reddit.com/r/Scotch/comments/43f6t...</td>\n",
       "    </tr>\n",
       "    <tr>\n",
       "      <th>2</th>\n",
       "      <td>3</td>\n",
       "      <td>http://www.reddit.com/r/Scotch/comments/2uddr0...</td>\n",
       "    </tr>\n",
       "    <tr>\n",
       "      <th>3</th>\n",
       "      <td>4</td>\n",
       "      <td>http://www.reddit.com/r/Scotch/comments/185jrq...</td>\n",
       "    </tr>\n",
       "    <tr>\n",
       "      <th>4</th>\n",
       "      <td>5</td>\n",
       "      <td>http://www.reddit.com/r/Scotch/comments/1a6bnw...</td>\n",
       "    </tr>\n",
       "  </tbody>\n",
       "</table>\n",
       "</div>"
      ],
      "text/plain": [
       "   id                                               link\n",
       "0   1  http://www.reddit.com/r/Scotch/comments/17e9n9...\n",
       "1   2  https://www.reddit.com/r/Scotch/comments/43f6t...\n",
       "2   3  http://www.reddit.com/r/Scotch/comments/2uddr0...\n",
       "3   4  http://www.reddit.com/r/Scotch/comments/185jrq...\n",
       "4   5  http://www.reddit.com/r/Scotch/comments/1a6bnw..."
      ]
     },
     "execution_count": 2,
     "metadata": {},
     "output_type": "execute_result"
    }
   ],
   "source": [
    "import pandas as pd\n",
    "\n",
    "review = db.create_metadata().tables['review']\n",
    "conn = db.get_connection()\n",
    "\n",
    "s = select([review.c.id, review.c.link])\n",
    "print(s)\n",
    "\n",
    "url_df = pd.read_sql(sql=s,con=conn)\n",
    "my_links = url_df\n",
    "my_links.head()"
   ]
  },
  {
   "cell_type": "markdown",
   "metadata": {},
   "source": [
    "Get review text using PRAW"
   ]
  },
  {
   "cell_type": "code",
   "execution_count": 3,
   "metadata": {
    "collapsed": false
   },
   "outputs": [
    {
     "data": {
      "text/html": [
       "<div>\n",
       "<table border=\"1\" class=\"dataframe\">\n",
       "  <thead>\n",
       "    <tr style=\"text-align: right;\">\n",
       "      <th></th>\n",
       "      <th>id</th>\n",
       "      <th>link</th>\n",
       "      <th>fullname</th>\n",
       "    </tr>\n",
       "  </thead>\n",
       "  <tbody>\n",
       "    <tr>\n",
       "      <th>0</th>\n",
       "      <td>1</td>\n",
       "      <td>http://www.reddit.com/r/Scotch/comments/17e9n9...</td>\n",
       "      <td>t1_c84olxe</td>\n",
       "    </tr>\n",
       "    <tr>\n",
       "      <th>1</th>\n",
       "      <td>2</td>\n",
       "      <td>https://www.reddit.com/r/Scotch/comments/43f6t...</td>\n",
       "      <td>t1_czhr8am</td>\n",
       "    </tr>\n",
       "    <tr>\n",
       "      <th>2</th>\n",
       "      <td>3</td>\n",
       "      <td>http://www.reddit.com/r/Scotch/comments/2uddr0...</td>\n",
       "      <td>t1_co7d81e</td>\n",
       "    </tr>\n",
       "    <tr>\n",
       "      <th>3</th>\n",
       "      <td>4</td>\n",
       "      <td>http://www.reddit.com/r/Scotch/comments/185jrq...</td>\n",
       "      <td>t1_c8bsjx1</td>\n",
       "    </tr>\n",
       "    <tr>\n",
       "      <th>4</th>\n",
       "      <td>5</td>\n",
       "      <td>http://www.reddit.com/r/Scotch/comments/1a6bnw...</td>\n",
       "      <td>t1_c8uh0wg</td>\n",
       "    </tr>\n",
       "  </tbody>\n",
       "</table>\n",
       "</div>"
      ],
      "text/plain": [
       "   id                                               link    fullname\n",
       "0   1  http://www.reddit.com/r/Scotch/comments/17e9n9...  t1_c84olxe\n",
       "1   2  https://www.reddit.com/r/Scotch/comments/43f6t...  t1_czhr8am\n",
       "2   3  http://www.reddit.com/r/Scotch/comments/2uddr0...  t1_co7d81e\n",
       "3   4  http://www.reddit.com/r/Scotch/comments/185jrq...  t1_c8bsjx1\n",
       "4   5  http://www.reddit.com/r/Scotch/comments/1a6bnw...  t1_c8uh0wg"
      ]
     },
     "execution_count": 3,
     "metadata": {},
     "output_type": "execute_result"
    }
   ],
   "source": [
    "import praw\n",
    "from numpy import nan\n",
    "\n",
    "reddit = praw.Reddit(client_secret='vPPOuaLhteQcDgMUv0v5Qm0p_lM',user_agent='reviewbot (dev) v0.0.1 (by /u/TheJollyReaver)',client_id='4kmOMwhAe_AjMA')\n",
    "\n",
    "fullnames = []\n",
    "for link in my_links['link']:\n",
    "    try:\n",
    "        fullnames.append(reddit.submission(url = link).comments[0].fullname)\n",
    "    except:\n",
    "        fullnames.append(nan) \n",
    "    \n",
    "my_links = my_links.assign(fullname=fullnames).dropna()\n",
    "my_links.head()"
   ]
  },
  {
   "cell_type": "code",
   "execution_count": 4,
   "metadata": {
    "collapsed": false
   },
   "outputs": [
    {
     "data": {
      "text/html": [
       "<div>\n",
       "<table border=\"1\" class=\"dataframe\">\n",
       "  <thead>\n",
       "    <tr style=\"text-align: right;\">\n",
       "      <th></th>\n",
       "      <th>id</th>\n",
       "      <th>fullname</th>\n",
       "      <th>review_text</th>\n",
       "    </tr>\n",
       "  </thead>\n",
       "  <tbody>\n",
       "    <tr>\n",
       "      <th>0</th>\n",
       "      <td>1</td>\n",
       "      <td>t1_c84olxe</td>\n",
       "      <td>Dewar's. Highlands. **40%, $40.**  \\n\\n**Nose:...</td>\n",
       "    </tr>\n",
       "    <tr>\n",
       "      <th>1</th>\n",
       "      <td>2</td>\n",
       "      <td>t1_czhr8am</td>\n",
       "      <td>so last night a bunch of guys from my church g...</td>\n",
       "    </tr>\n",
       "    <tr>\n",
       "      <th>2</th>\n",
       "      <td>3</td>\n",
       "      <td>t1_co7d81e</td>\n",
       "      <td>Just back from an overnight outing with the ki...</td>\n",
       "    </tr>\n",
       "    <tr>\n",
       "      <th>3</th>\n",
       "      <td>4</td>\n",
       "      <td>t1_c8bsjx1</td>\n",
       "      <td>Aberfeldy 12. Not bad, not fantastic, pretty c...</td>\n",
       "    </tr>\n",
       "    <tr>\n",
       "      <th>4</th>\n",
       "      <td>5</td>\n",
       "      <td>t1_c8uh0wg</td>\n",
       "      <td>Just running though whats left of my swaps. No...</td>\n",
       "    </tr>\n",
       "  </tbody>\n",
       "</table>\n",
       "</div>"
      ],
      "text/plain": [
       "   id    fullname                                        review_text\n",
       "0   1  t1_c84olxe  Dewar's. Highlands. **40%, $40.**  \\n\\n**Nose:...\n",
       "1   2  t1_czhr8am  so last night a bunch of guys from my church g...\n",
       "2   3  t1_co7d81e  Just back from an overnight outing with the ki...\n",
       "3   4  t1_c8bsjx1  Aberfeldy 12. Not bad, not fantastic, pretty c...\n",
       "4   5  t1_c8uh0wg  Just running though whats left of my swaps. No..."
      ]
     },
     "execution_count": 4,
     "metadata": {},
     "output_type": "execute_result"
    }
   ],
   "source": [
    "text = [m.body for m in reddit.info(list(my_links['fullname']))]\n",
    "my_links = my_links.assign(review_text=text).drop('link',1)\n",
    "my_links.head()"
   ]
  },
  {
   "cell_type": "code",
   "execution_count": 11,
   "metadata": {
    "collapsed": false
   },
   "outputs": [
    {
     "data": {
      "text/html": [
       "<div>\n",
       "<table border=\"1\" class=\"dataframe\">\n",
       "  <thead>\n",
       "    <tr style=\"text-align: right;\">\n",
       "      <th></th>\n",
       "      <th>id</th>\n",
       "      <th>reddit_fullname</th>\n",
       "      <th>review_text</th>\n",
       "    </tr>\n",
       "  </thead>\n",
       "  <tbody>\n",
       "    <tr>\n",
       "      <th>0</th>\n",
       "      <td>1</td>\n",
       "      <td>t1_c84olxe</td>\n",
       "      <td>Dewar's. Highlands. **40%, $40.**  \\n\\n**Nose:...</td>\n",
       "    </tr>\n",
       "    <tr>\n",
       "      <th>1</th>\n",
       "      <td>2</td>\n",
       "      <td>t1_czhr8am</td>\n",
       "      <td>so last night a bunch of guys from my church g...</td>\n",
       "    </tr>\n",
       "    <tr>\n",
       "      <th>2</th>\n",
       "      <td>3</td>\n",
       "      <td>t1_co7d81e</td>\n",
       "      <td>Just back from an overnight outing with the ki...</td>\n",
       "    </tr>\n",
       "    <tr>\n",
       "      <th>3</th>\n",
       "      <td>4</td>\n",
       "      <td>t1_c8bsjx1</td>\n",
       "      <td>Aberfeldy 12. Not bad, not fantastic, pretty c...</td>\n",
       "    </tr>\n",
       "    <tr>\n",
       "      <th>4</th>\n",
       "      <td>5</td>\n",
       "      <td>t1_c8uh0wg</td>\n",
       "      <td>Just running though whats left of my swaps. No...</td>\n",
       "    </tr>\n",
       "  </tbody>\n",
       "</table>\n",
       "</div>"
      ],
      "text/plain": [
       "   id reddit_fullname                                        review_text\n",
       "0   1      t1_c84olxe  Dewar's. Highlands. **40%, $40.**  \\n\\n**Nose:...\n",
       "1   2      t1_czhr8am  so last night a bunch of guys from my church g...\n",
       "2   3      t1_co7d81e  Just back from an overnight outing with the ki...\n",
       "3   4      t1_c8bsjx1  Aberfeldy 12. Not bad, not fantastic, pretty c...\n",
       "4   5      t1_c8uh0wg  Just running though whats left of my swaps. No..."
      ]
     },
     "execution_count": 11,
     "metadata": {},
     "output_type": "execute_result"
    }
   ],
   "source": [
    "my_links = my_links.rename(columns={'fullname':'reddit_fullname'})\n",
    "my_links.head()"
   ]
  },
  {
   "cell_type": "code",
   "execution_count": 12,
   "metadata": {
    "collapsed": false
   },
   "outputs": [],
   "source": [
    "from whiskymetrics.etl import load\n",
    "tbl = db.create_metadata().tables['review_text']\n",
    "load(tbl,my_links)"
   ]
  }
 ],
 "metadata": {
  "anaconda-cloud": {},
  "kernelspec": {
   "display_name": "Python [conda root]",
   "language": "python",
   "name": "conda-root-py"
  },
  "language_info": {
   "codemirror_mode": {
    "name": "ipython",
    "version": 3
   },
   "file_extension": ".py",
   "mimetype": "text/x-python",
   "name": "python",
   "nbconvert_exporter": "python",
   "pygments_lexer": "ipython3",
   "version": "3.5.2"
  }
 },
 "nbformat": 4,
 "nbformat_minor": 1
}
